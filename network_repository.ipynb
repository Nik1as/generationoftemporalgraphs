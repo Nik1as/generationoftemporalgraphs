{
 "cells": [
  {
   "cell_type": "code",
   "execution_count": null,
   "metadata": {},
   "outputs": [],
   "source": [
    "data_path = \"data/new_graphs/\""
   ]
  },
  {
   "attachments": {},
   "cell_type": "markdown",
   "metadata": {},
   "source": [
    "Download all Datasets"
   ]
  },
  {
   "cell_type": "code",
   "execution_count": null,
   "metadata": {
    "collapsed": true
   },
   "outputs": [],
   "source": [
    "import io\n",
    "import zipfile\n",
    "import bs4\n",
    "import requests\n",
    "\n",
    "html = requests.get(\"https://networkrepository.com/dynamic.php\", headers={\"User-Agent\": \"XY\"}).text\n",
    "soup = bs4.BeautifulSoup(html, \"html.parser\")\n",
    "for link in soup.select(\"td a\"):\n",
    "    href = link.get(\"href\")\n",
    "    if href.endswith(\".zip\"):\n",
    "        print(href)\n",
    "        r = requests.get(href)\n",
    "        z = zipfile.ZipFile(io.BytesIO(r.content))\n",
    "        z.extractall(data_path)"
   ]
  },
  {
   "attachments": {},
   "cell_type": "markdown",
   "metadata": {},
   "source": [
    "Fixes errors in the datasets and changes the delimiter to one Space"
   ]
  },
  {
   "cell_type": "code",
   "execution_count": null,
   "metadata": {},
   "outputs": [],
   "source": [
    "import os\n",
    "\n",
    "processed = []\n",
    "\n",
    "for file in os.listdir(data_path):\n",
    "    print(file)\n",
    "    data = []\n",
    "    with open(os.path.join(data_path, file), \"r\") as f:\n",
    "        for line in f:\n",
    "            line = line.strip().replace(\"\\t\", \" \")\n",
    "            if line and not line.startswith(\"%\"):\n",
    "                while \"  \" in line:\n",
    "                    line = line.replace(\"  \", \" \")\n",
    "                if \",\" in line:\n",
    "                    data.append(\" \".join(line.split(\",\")))\n",
    "                elif \";\" in line:\n",
    "                    data.append(\" \".join(line.split(\";\")))\n",
    "                elif \" \" in line:\n",
    "                    data.append(\" \".join(line.split(\" \")))\n",
    "    with open(data_path + file, \"w\") as f:\n",
    "        f.write(\"\\n\".join(data))"
   ]
  },
  {
   "attachments": {},
   "cell_type": "markdown",
   "metadata": {},
   "source": [
    "Swap timestamp and transition time column"
   ]
  },
  {
   "cell_type": "code",
   "execution_count": null,
   "metadata": {},
   "outputs": [],
   "source": [
    "import os\n",
    "\n",
    "for file in os.listdir(data_path):\n",
    "    print(file)\n",
    "    data = []\n",
    "    with open(os.path.join(data_path, file), \"r\") as f:\n",
    "        for line in f:\n",
    "            line = line.strip().replace(\"\\t\", \" \")\n",
    "            u, v, tt, t = line.split(\" \")\n",
    "            data.append(\" \".join([u, v, t, tt]))\n",
    "    with open(data_path + file, \"w\") as f:\n",
    "        f.write(\"\\n\".join(data))"
   ]
  },
  {
   "attachments": {},
   "cell_type": "markdown",
   "metadata": {},
   "source": [
    "Undirected to directed Graph"
   ]
  },
  {
   "cell_type": "code",
   "execution_count": null,
   "metadata": {},
   "outputs": [],
   "source": [
    "import os\n",
    "import csv\n",
    "\n",
    "for file in os.listdir(data_path):\n",
    "    print(file)\n",
    "    edges = set()\n",
    "    with open(os.path.join(data_path, file), \"r\") as csvfile:\n",
    "        reader = csv.reader(csvfile, delimiter=\" \")\n",
    "        for row in reader:\n",
    "            u, v, t, *tt = row\n",
    "            edges.add((u, v, t))\n",
    "            edges.add((v, u, t))\n",
    "    with open(os.path.join(data_path, file), \"w\") as csvfile:\n",
    "        writer = csv.writer(file, delimiter=\" \")\n",
    "        writer.writerows(list(sorted(edges)))"
   ]
  }
 ],
 "metadata": {
  "kernelspec": {
   "display_name": "Python 3",
   "language": "python",
   "name": "python3"
  },
  "language_info": {
   "codemirror_mode": {
    "name": "ipython",
    "version": 3
   },
   "file_extension": ".py",
   "mimetype": "text/x-python",
   "name": "python",
   "nbconvert_exporter": "python",
   "pygments_lexer": "ipython3",
   "version": "3.10.6"
  }
 },
 "nbformat": 4,
 "nbformat_minor": 0
}
