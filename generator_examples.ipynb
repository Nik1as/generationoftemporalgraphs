{
 "cells": [
  {
   "cell_type": "code",
   "execution_count": null,
   "metadata": {},
   "outputs": [],
   "source": [
    "import sampling\n",
    "import generators\n",
    "import graph_io\n",
    "import tg_plots\n",
    "import utils\n",
    "import os\n",
    "import networkit as nk\n",
    "import matplotlib.pyplot as plt\n",
    "\n",
    "\n",
    "path = \"data/generated_temporal_graph.edges\""
   ]
  },
  {
   "attachments": {},
   "cell_type": "markdown",
   "metadata": {},
   "source": [
    "Timestamp weights and cardinalities distribution"
   ]
  },
  {
   "cell_type": "code",
   "execution_count": null,
   "metadata": {},
   "outputs": [],
   "source": [
    "n = 5_000\n",
    "days = 7\n",
    "timestamps_per_day = 24\n",
    "timestamps = days * timestamps_per_day\n",
    "timestamp_weights = sampling.generate_burst_weights(days, timestamps_per_day // 2)\n",
    "\n",
    "cardinality_distribution = sampling.Zipf(2, timestamps)"
   ]
  },
  {
   "attachments": {},
   "cell_type": "markdown",
   "metadata": {},
   "source": [
    "Chung-Lu model with powerlaw degree sequence"
   ]
  },
  {
   "cell_type": "code",
   "execution_count": null,
   "metadata": {},
   "outputs": [],
   "source": [
    "degree_seq = nk.generators.PowerlawDegreeSequence(1, n - 1, -2).run().getDegreeSequence(n)\n",
    "\n",
    "G = nk.generators.ChungLuGenerator(degree_seq).generate()"
   ]
  },
  {
   "attachments": {},
   "cell_type": "markdown",
   "metadata": {},
   "source": [
    "Hyperbolic Generator"
   ]
  },
  {
   "cell_type": "code",
   "execution_count": null,
   "metadata": {},
   "outputs": [],
   "source": [
    "G = nk.generators.HyperbolicGenerator(n, 14, 2.1).generate()"
   ]
  },
  {
   "attachments": {},
   "cell_type": "markdown",
   "metadata": {},
   "source": [
    "Sequential Generator"
   ]
  },
  {
   "cell_type": "code",
   "execution_count": null,
   "metadata": {},
   "outputs": [],
   "source": [
    "edges = generators.temporal_graph_generator(G, timestamps, cardinality_distribution, timestamp_weights)\n",
    "graph_io.write_edge_list(path, edges)"
   ]
  },
  {
   "cell_type": "code",
   "execution_count": null,
   "metadata": {},
   "outputs": [],
   "source": [
    "tg_plots.cardinality_distribution(path)\n",
    "plt.show()\n",
    "tg_plots.timestamp_distribution(path)\n",
    "plt.show()\n",
    "tg_plots.degree_vs_cardinality(path)\n",
    "plt.show()\n",
    "tg_plots.degree_vs_topological_overlap(path)\n",
    "plt.show()\n",
    "tg_plots.temporal_clustering(path)\n",
    "plt.show()\n",
    "tg_plots.degree_distribution(path)\n",
    "plt.show()\n",
    "tg_plots.assortativity_degree(path)\n",
    "plt.show()\n",
    "tg_plots.local_clustering(path)\n",
    "plt.show()"
   ]
  },
  {
   "attachments": {},
   "cell_type": "markdown",
   "metadata": {},
   "source": [
    "Generate random temporal graphs"
   ]
  },
  {
   "cell_type": "code",
   "execution_count": null,
   "metadata": {},
   "outputs": [],
   "source": [
    "days = 7\n",
    "timestamps_per_day = 24\n",
    "timestamps = days * timestamps_per_day\n",
    "timestamp_weights = sampling.generate_burst_weights(days, timestamps_per_day // 2)\n",
    "\n",
    "cardinality_distribution = sampling.Zipf(2, timestamps)\n",
    "\n",
    "folder_path = \"data/temporal_graphs/random_chung-lu\"\n",
    "\n",
    "for i in range(7, 17):\n",
    "    n = 2**i\n",
    "    path = os.path.join(folder_path, f\"chung-lu-{i-7:02d}.edges\")\n",
    "    \n",
    "    # G = nk.generators.HyperbolicGenerator(n, 10, 2.1).generate()\n",
    "\n",
    "    degree_seq = nk.generators.PowerlawDegreeSequence(1, n - 1, -2).run().getDegreeSequence(n)\n",
    "    G = nk.generators.ChungLuGenerator(degree_seq).generate()\n",
    "\n",
    "    edges = generators.temporal_graph_generator(G, cardinality_distribution, timestamp_weights)\n",
    "    graph_io.write_edge_list(path, edges)"
   ]
  }
 ],
 "metadata": {
  "kernelspec": {
   "display_name": "venv",
   "language": "python",
   "name": "python3"
  },
  "language_info": {
   "codemirror_mode": {
    "name": "ipython",
    "version": 3
   },
   "file_extension": ".py",
   "mimetype": "text/x-python",
   "name": "python",
   "nbconvert_exporter": "python",
   "pygments_lexer": "ipython3",
   "version": "3.8.10"
  },
  "orig_nbformat": 4
 },
 "nbformat": 4,
 "nbformat_minor": 2
}
