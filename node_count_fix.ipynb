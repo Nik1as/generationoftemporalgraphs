{
 "cells": [
  {
   "cell_type": "markdown",
   "metadata": {},
   "source": [
    "Fix node counts in random from real world temporale graphs"
   ]
  },
  {
   "cell_type": "code",
   "execution_count": 27,
   "metadata": {},
   "outputs": [],
   "source": [
    "import pandas as pd\n",
    "\n",
    "real_world_stats = pd.read_csv(\"data/graphs_stats/real_world.csv\")\n",
    "\n",
    "\n",
    "def get_number_of_nodes(dataset):\n",
    "    dataset = dataset.replace(\"-random\", \"\")\n",
    "    return real_world_stats.query(f\"Datensatz == @dataset\")[\"Knoten\"].iloc[0]\n",
    "\n",
    "\n",
    "fix_stats = pd.read_csv(\"data/graphs_stats.csv\")\n",
    "fix_stats[\"Knoten\"] = fix_stats[\"Datensatz\"].map(get_number_of_nodes)\n",
    "fix_stats.to_csv(\"test.csv\", index=False)"
   ]
  },
  {
   "cell_type": "markdown",
   "metadata": {},
   "source": [
    "fix utils.node_count_iterator"
   ]
  },
  {
   "cell_type": "code",
   "execution_count": 30,
   "metadata": {},
   "outputs": [],
   "source": [
    "import pandas as pd\n",
    "import utils\n",
    "\n",
    "fix_stats = pd.read_csv(\"data/graphs_stats.csv\")\n",
    "fix_stats[\"Knoten\"] = fix_stats[\"Knoten\"].map(lambda x: round(x, -utils.number_of_digits(x) + 1))\n",
    "fix_stats.to_csv(\"test.csv\", index=False)"
   ]
  }
 ],
 "metadata": {
  "kernelspec": {
   "display_name": ".venv",
   "language": "python",
   "name": "python3"
  },
  "language_info": {
   "codemirror_mode": {
    "name": "ipython",
    "version": 3
   },
   "file_extension": ".py",
   "mimetype": "text/x-python",
   "name": "python",
   "nbconvert_exporter": "python",
   "pygments_lexer": "ipython3",
   "version": "3.8.10"
  },
  "orig_nbformat": 4
 },
 "nbformat": 4,
 "nbformat_minor": 2
}
