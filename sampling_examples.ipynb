{
 "cells": [
  {
   "attachments": {},
   "cell_type": "markdown",
   "metadata": {},
   "source": [
    "Sample from discrete power law distribution (Zipf distribution)"
   ]
  },
  {
   "cell_type": "code",
   "execution_count": null,
   "metadata": {},
   "outputs": [],
   "source": [
    "import sampling\n",
    "import seaborn as sns\n",
    "import matplotlib.pyplot as plt\n",
    "from collections import Counter\n",
    "\n",
    "sns.set_theme()\n",
    "\n",
    "sampler = sampling.Zipf(2, 1_000)\n",
    "sns.scatterplot(dict(Counter(sampler.generate() for _ in range(100_000))))\n",
    "plt.loglog()\n",
    "plt.show()"
   ]
  },
  {
   "attachments": {},
   "cell_type": "markdown",
   "metadata": {},
   "source": [
    "Weighted sampling without replacement"
   ]
  },
  {
   "cell_type": "code",
   "execution_count": null,
   "metadata": {},
   "outputs": [],
   "source": [
    "import sampling\n",
    "import random\n",
    "\n",
    "n = 25\n",
    "population = list(range(n))\n",
    "weights = [random.randint(1, 100) for _ in range(n)]\n",
    "sampler = sampling.EfraimidisSpirakis(population, weights)\n",
    "result = []\n",
    "for _ in range(100_000):\n",
    "    k = random.randint(1, n)\n",
    "    sample = sampler.sample(k)\n",
    "    result.extend(sample)\n",
    "\n",
    "weights_sum = sum(weights)\n",
    "print(weights_sum)\n",
    "for i in range(n):\n",
    "    print(population[i], \"\\tweight:\", weights[i], \"\\texpected:\", round(weights[i] / weights_sum, 4), \"\\t\\tsample:\", round(result.count(population[i]) / len(result), 4))"
   ]
  },
  {
   "attachments": {},
   "cell_type": "markdown",
   "metadata": {},
   "source": [
    "Weighted sampling of timestamps with wave distribution"
   ]
  },
  {
   "cell_type": "code",
   "execution_count": null,
   "metadata": {},
   "outputs": [],
   "source": [
    "import sampling\n",
    "import seaborn as sns\n",
    "import matplotlib.pyplot as plt\n",
    "from collections import Counter\n",
    "\n",
    "sns.set_theme()\n",
    "\n",
    "weights = sampling.generate_burst_weights(7, 12)\n",
    "n = len(weights)\n",
    "timestamps = list(range(n))\n",
    "wswr = sampling.EfraimidisSpirakis(timestamps, weights)\n",
    "sampler = sampling.Zipf(2, n)\n",
    "result = []\n",
    "for _ in range(100_000):\n",
    "    k = sampler.generate()\n",
    "    sample = wswr.sample(k)\n",
    "    result.extend(sample)\n",
    "\n",
    "sns.set(rc={\"figure.figsize\":(20, 6)})\n",
    "sns.scatterplot(dict(Counter(result)))\n",
    "plt.yscale(\"log\")\n",
    "plt.show()"
   ]
  }
 ],
 "metadata": {
  "kernelspec": {
   "display_name": ".venv",
   "language": "python",
   "name": "python3"
  },
  "language_info": {
   "codemirror_mode": {
    "name": "ipython",
    "version": 3
   },
   "file_extension": ".py",
   "mimetype": "text/x-python",
   "name": "python",
   "nbconvert_exporter": "python",
   "pygments_lexer": "ipython3",
   "version": "3.8.10"
  },
  "orig_nbformat": 4
 },
 "nbformat": 4,
 "nbformat_minor": 2
}
